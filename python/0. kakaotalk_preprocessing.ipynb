{
 "cells": [
  {
   "cell_type": "markdown",
   "metadata": {},
   "source": [
    "# 카카오톡 데이터 처리\n",
    "- kakao.txt파일을 입력\n",
    "- [대화명]에 해당하는 사람의 대화를 추출하여 바로 위 대화와 짝을 지어 학습 데이터셋 구성"
   ]
  },
  {
   "cell_type": "code",
   "execution_count": 3,
   "metadata": {},
   "outputs": [],
   "source": [
    "import pandas as pd\n",
    "from tqdm.notebook import tqdm"
   ]
  },
  {
   "cell_type": "code",
   "execution_count": 15,
   "metadata": {},
   "outputs": [],
   "source": [
    "nickname = '혜성' #학습 대상 닉네임\n",
    "nickname = '[' + nickname\n",
    "f = open('kakao.txt', 'r', encoding='UTF-8')\n",
    "lines = f.readlines()[5:]\n",
    "df = pd.DataFrame(columns=['questions', 'answers'])"
   ]
  },
  {
   "cell_type": "code",
   "execution_count": 20,
   "metadata": {
    "scrolled": true
   },
   "outputs": [
    {
     "data": {
      "application/vnd.jupyter.widget-view+json": {
       "model_id": "483e9b448b9f421b87dd0daf3c38b021",
       "version_major": 2,
       "version_minor": 0
      },
      "text/plain": [
       "HBox(children=(FloatProgress(value=0.0, max=188458.0), HTML(value='')))"
      ]
     },
     "metadata": {},
     "output_type": "display_data"
    },
    {
     "name": "stdout",
     "output_type": "stream",
     "text": [
      "\n"
     ]
    }
   ],
   "source": [
    "name = msg = '' #바로 이전 대화 저장\n",
    "for line in tqdm(lines):\n",
    "    #대화가 아닌 부분에 대한 예외처리\n",
    "    if line.find('들어왔습니다.')>0 or line.find('나갔습니다.')>0 or line.find('---------------')>=0: continue\n",
    "    if line.find('[오전')==-1 and line.find('[오후')==-1: continue\n",
    "        \n",
    "    try:\n",
    "        last_name, last_msg = name, msg\n",
    "        name, msg = line.split('] [')\n",
    "        msg = msg.split('] ',1)[1].strip()\n",
    "        #링크가 들어간 부분은 제외\n",
    "        if name==nickname and last_name!=nickname and last_msg.find('http')==-1 and msg.find('http')==-1:\n",
    "            df = df.append({'questions':last_msg, 'answers':msg}, ignore_index=True)\n",
    "    except:\n",
    "        pass\n",
    "df.to_csv('processed_kakao.csv', index = False)"
   ]
  },
  {
   "cell_type": "code",
   "execution_count": 21,
   "metadata": {},
   "outputs": [
    {
     "data": {
      "text/html": [
       "<div>\n",
       "<style scoped>\n",
       "    .dataframe tbody tr th:only-of-type {\n",
       "        vertical-align: middle;\n",
       "    }\n",
       "\n",
       "    .dataframe tbody tr th {\n",
       "        vertical-align: top;\n",
       "    }\n",
       "\n",
       "    .dataframe thead th {\n",
       "        text-align: right;\n",
       "    }\n",
       "</style>\n",
       "<table border=\"1\" class=\"dataframe\">\n",
       "  <thead>\n",
       "    <tr style=\"text-align: right;\">\n",
       "      <th></th>\n",
       "      <th>questions</th>\n",
       "      <th>answers</th>\n",
       "    </tr>\n",
       "  </thead>\n",
       "  <tbody>\n",
       "    <tr>\n",
       "      <th>0</th>\n",
       "      <td>나다</td>\n",
       "      <td>nada</td>\n",
       "    </tr>\n",
       "    <tr>\n",
       "      <th>1</th>\n",
       "      <td>방가방가</td>\n",
       "      <td>ㅈㅈㅈ</td>\n",
       "    </tr>\n",
       "    <tr>\n",
       "      <th>2</th>\n",
       "      <td>어디서봐야돼?</td>\n",
       "      <td>꽁짜로 보려면</td>\n",
       "    </tr>\n",
       "    <tr>\n",
       "      <th>3</th>\n",
       "      <td>ㅇㅋㅇㅋ</td>\n",
       "      <td>조선니체좌</td>\n",
       "    </tr>\n",
       "    <tr>\n",
       "      <th>4</th>\n",
       "      <td>청출어람 당할듯 ㅠ</td>\n",
       "      <td>@검네이버   이 친구도 알바로 집어넣어버립시다</td>\n",
       "    </tr>\n",
       "    <tr>\n",
       "      <th>...</th>\n",
       "      <td>...</td>\n",
       "      <td>...</td>\n",
       "    </tr>\n",
       "    <tr>\n",
       "      <th>15358</th>\n",
       "      <td>혜성 고마어 ㅎㅎㅎ</td>\n",
       "      <td>사진</td>\n",
       "    </tr>\n",
       "    <tr>\n",
       "      <th>15359</th>\n",
       "      <td>나대지안을게..</td>\n",
       "      <td>진짜임?</td>\n",
       "    </tr>\n",
       "    <tr>\n",
       "      <th>15360</th>\n",
       "      <td>?</td>\n",
       "      <td>누가햇냐 진짜 개빡치게</td>\n",
       "    </tr>\n",
       "    <tr>\n",
       "      <th>15361</th>\n",
       "      <td>오와</td>\n",
       "      <td>선착순 선물이 곧 종료됩니다.</td>\n",
       "    </tr>\n",
       "    <tr>\n",
       "      <th>15362</th>\n",
       "      <td>귀찮아서 집왔는데 후회된다 좀..</td>\n",
       "      <td>점박님</td>\n",
       "    </tr>\n",
       "  </tbody>\n",
       "</table>\n",
       "<p>15363 rows × 2 columns</p>\n",
       "</div>"
      ],
      "text/plain": [
       "                questions                     answers\n",
       "0                      나다                        nada\n",
       "1                    방가방가                         ㅈㅈㅈ\n",
       "2                 어디서봐야돼?                     꽁짜로 보려면\n",
       "3                    ㅇㅋㅇㅋ                       조선니체좌\n",
       "4              청출어람 당할듯 ㅠ  @검네이버   이 친구도 알바로 집어넣어버립시다\n",
       "...                   ...                         ...\n",
       "15358          혜성 고마어 ㅎㅎㅎ                          사진\n",
       "15359            나대지안을게..                        진짜임?\n",
       "15360                   ?                누가햇냐 진짜 개빡치게\n",
       "15361                  오와            선착순 선물이 곧 종료됩니다.\n",
       "15362  귀찮아서 집왔는데 후회된다 좀..                         점박님\n",
       "\n",
       "[15363 rows x 2 columns]"
      ]
     },
     "execution_count": 21,
     "metadata": {},
     "output_type": "execute_result"
    }
   ],
   "source": [
    "df"
   ]
  }
 ],
 "metadata": {
  "kernelspec": {
   "display_name": "Python 3",
   "language": "python",
   "name": "python3"
  },
  "language_info": {
   "codemirror_mode": {
    "name": "ipython",
    "version": 3
   },
   "file_extension": ".py",
   "mimetype": "text/x-python",
   "name": "python",
   "nbconvert_exporter": "python",
   "pygments_lexer": "ipython3",
   "version": "3.7.6"
  }
 },
 "nbformat": 4,
 "nbformat_minor": 4
}
